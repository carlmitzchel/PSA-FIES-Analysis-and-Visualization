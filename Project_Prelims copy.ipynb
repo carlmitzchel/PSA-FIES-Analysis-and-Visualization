{
 "cells": [
  {
   "cell_type": "markdown",
   "metadata": {},
   "source": [
    "# Preliminary Project - Data Analysis and Visualization\n",
    "**Group Members:**\n",
    "- Benjamin Francis Abadila\n",
    "- Angelo Dela Paz\n",
    "- Carl Mitzchel Padua\n",
    "- Edjin Jerney Payumo\n",
    "- Levin Jacob Sta. Cruz"
   ]
  },
  {
   "cell_type": "markdown",
   "metadata": {},
   "source": [
    "---\n",
    "## Setup"
   ]
  },
  {
   "cell_type": "code",
   "execution_count": null,
   "metadata": {},
   "outputs": [],
   "source": [
    "%matplotlib inline\n",
    "import pandas as pd\n",
    "import numpy as np\n",
    "import seaborn as sns\n",
    "import matplotlib.pyplot as plt\n",
    "from sklearn.model_selection import train_test_split\n",
    "from sklearn.preprocessing import StandardScaler \n",
    "from sklearn.ensemble import RandomForestClassifier\n",
    "from sklearn.metrics import classification_report, confusion_matrix\n",
    "from sklearn.utils.class_weight import compute_class_weight\n"
   ]
  },
  {
   "cell_type": "code",
   "execution_count": null,
   "metadata": {},
   "outputs": [],
   "source": [
    "# 2023 Dataset\n",
    "fies_23 = pd.read_csv('dataset/PHL-PSA-FIES-2023-V1-PUF/FIES PUF 2023 Volume1.csv')"
   ]
  },
  {
   "cell_type": "markdown",
   "metadata": {},
   "source": [
    "---\n",
    "## Data Preprocessing"
   ]
  },
  {
   "cell_type": "markdown",
   "metadata": {},
   "source": [
    "### Data Inspection"
   ]
  },
  {
   "cell_type": "code",
   "execution_count": null,
   "metadata": {},
   "outputs": [],
   "source": [
    "# Show all columns on output\n",
    "pd.set_option('display.max_columns', None)\n"
   ]
  },
  {
   "cell_type": "code",
   "execution_count": null,
   "metadata": {},
   "outputs": [],
   "source": [
    "fies_23.info()"
   ]
  },
  {
   "cell_type": "markdown",
   "metadata": {},
   "source": [
    "`'TOTDIS'` is the only object datatype although it should also be numerical "
   ]
  },
  {
   "cell_type": "code",
   "execution_count": null,
   "metadata": {},
   "outputs": [],
   "source": [
    "fies_23.describe()"
   ]
  },
  {
   "cell_type": "code",
   "execution_count": null,
   "metadata": {},
   "outputs": [],
   "source": [
    "# Identify column that are non-numeric\n",
    "fies_23.describe(include='O')"
   ]
  },
  {
   "cell_type": "code",
   "execution_count": null,
   "metadata": {},
   "outputs": [],
   "source": [
    "# Convert the TOTDIS column to string for inspection\n",
    "fies_23['TOTDIS'] = fies_23['TOTDIS'].astype(str)\n",
    "\n",
    "# Check for null values\n",
    "null_values_count = fies_23['TOTDIS'].isnull().sum()\n",
    "\n",
    "# Identify non-numerical entries (including whitespace)\n",
    "non_numerical_entries = fies_23[~fies_23['TOTDIS'].str.replace('.', '', regex=False).str.isnumeric()]\n",
    "\n",
    "# Display results\n",
    "print(f\"Number of null values: {null_values_count}\")\n",
    "print(f\"Number of non-numerical entries: {len(non_numerical_entries)}\")\n",
    "\n",
    "# Display the non-numerical entries for inspection\n",
    "print(non_numerical_entries[['TOTDIS']])\n"
   ]
  },
  {
   "cell_type": "code",
   "execution_count": null,
   "metadata": {},
   "outputs": [],
   "source": [
    "# Strip whitespace from the TOTAL_DISBURSEMENTS column\n",
    "fies_23['TOTDIS'] = fies_23['TOTDIS'].astype(str)\n",
    "\n",
    "# Identify and view rows where TOTAL_DISBURSEMENTS contains only whitespace\n",
    "whitespace_entries = fies_23[fies_23['TOTDIS'].str.strip() == '']\n",
    "\n",
    "# Display the rows with whitespace in TOTAL_DISBURSEMENTS\n",
    "whitespace_entries['TOTDIS']\n"
   ]
  },
  {
   "cell_type": "markdown",
   "metadata": {},
   "source": [
    "All the non-numeric values of column `'TOTDIS'` are whitespaces, probably caused by an encoding error"
   ]
  },
  {
   "cell_type": "code",
   "execution_count": null,
   "metadata": {},
   "outputs": [],
   "source": [
    "# Calculating the Missing Values % contribution in DF\n",
    "df_null = round(100*(fies_23.isnull().sum())/len(fies_23), 2)\n",
    "df_null"
   ]
  },
  {
   "cell_type": "code",
   "execution_count": null,
   "metadata": {},
   "outputs": [],
   "source": [
    "df_null[df_null > 0] # Show only columns having Missing Values (non-zero)"
   ]
  },
  {
   "cell_type": "code",
   "execution_count": null,
   "metadata": {},
   "outputs": [],
   "source": [
    "# Plotting the df_null\n",
    "plt.figure(figsize=(16,8))\n",
    "sns.barplot(x=df_null.index, y=df_null.values, alpha=0.8)\n",
    "plt.title('Missing Values (Pre-Cleaning)')\n",
    "plt.ylabel('Missing Values %')\n",
    "plt.xlabel('Columns')\n",
    "plt.xticks(rotation=90)\n",
    "plt.show()"
   ]
  },
  {
   "cell_type": "markdown",
   "metadata": {},
   "source": [
    "There are no identified null values except for the empty whitespaces in `'TOTDIS'`"
   ]
  },
  {
   "cell_type": "code",
   "execution_count": null,
   "metadata": {},
   "outputs": [],
   "source": [
    "fies_23.shape"
   ]
  },
  {
   "cell_type": "code",
   "execution_count": null,
   "metadata": {},
   "outputs": [],
   "source": [
    "fies_23.columns"
   ]
  },
  {
   "cell_type": "code",
   "execution_count": null,
   "metadata": {},
   "outputs": [],
   "source": [
    "fies_23"
   ]
  },
  {
   "cell_type": "markdown",
   "metadata": {},
   "source": [
    "### Data Cleaning"
   ]
  },
  {
   "cell_type": "code",
   "execution_count": null,
   "metadata": {},
   "outputs": [],
   "source": [
    "# Convert TOTDIS to string to check for whitespaces\n",
    "fies_23['TOTDIS'] = fies_23['TOTDIS'].astype(str)\n",
    "\n",
    "# Identify rows where TOTDIS contains only whitespace\n",
    "whitespace_rows = fies_23[fies_23['TOTDIS'].str.strip() == '']\n",
    "\n",
    "# Compute the new values for TOTDIS\n",
    "fies_23.loc[whitespace_rows.index, 'TOTDIS'] = (\n",
    "    fies_23.loc[whitespace_rows.index, 'TOTEX'] + \n",
    "    fies_23.loc[whitespace_rows.index, 'OTHER_DISBURSEMENT']\n",
    ")\n",
    "\n",
    "# Convert TOTDIS back to numeric type\n",
    "fies_23['TOTDIS'] = pd.to_numeric(fies_23['TOTDIS'], errors='coerce')\n",
    "\n",
    "# Display the updated DataFrame for verification\n",
    "print(fies_23[['TOTDIS', 'TOTEX', 'OTHER_DISBURSEMENT']].head())"
   ]
  },
  {
   "cell_type": "markdown",
   "metadata": {},
   "source": [
    "Since `TOTDIS` = `TOTEX` + `OTHER_DISBURSEMENT`, we used the data on these two columns to recompute the rows in `TOTDIS` containing whitespaces  "
   ]
  },
  {
   "cell_type": "code",
   "execution_count": null,
   "metadata": {},
   "outputs": [],
   "source": [
    "# Convert the TOTDIS column to string for inspection\n",
    "fies_23['TOTDIS'] = fies_23['TOTDIS'].astype(str)\n",
    "\n",
    "# Identify non-numerical entries (including whitespace)\n",
    "non_numerical_entries = fies_23[~fies_23['TOTDIS'].str.replace('.', '', regex=False).str.isnumeric()]\n",
    "\n",
    "# Display results\n",
    "print(f\"Number of non-numerical entries: {len(non_numerical_entries)}\")"
   ]
  },
  {
   "cell_type": "code",
   "execution_count": null,
   "metadata": {},
   "outputs": [],
   "source": [
    "# Dropping Unnecessary Columns\n",
    "cleaned_fies = fies_23.copy()"
   ]
  },
  {
   "cell_type": "code",
   "execution_count": null,
   "metadata": {},
   "outputs": [],
   "source": [
    "# Drop Entrepreneurial Activity Component Columns\n",
    "# The column EAINC, which is the total of these components will be used instead\n",
    "cleaned_fies.drop(columns=[\n",
    "    'NET_CFG', 'NET_LPR', 'NET_FISH', 'NET_FOR', \n",
    "    'NET_RET', 'NET_MFG', 'NET_TRANS', 'NET_NEC_A8', \n",
    "    'NET_NEC_A9', 'NET_NEC_A10'\n",
    "], inplace=True)\n"
   ]
  },
  {
   "cell_type": "code",
   "execution_count": null,
   "metadata": {},
   "outputs": [],
   "source": [
    "# Drop Food Component Columns\n",
    "# The column FOOD, which is the total of these components will be used instead\n",
    "cleaned_fies.drop(columns=[\n",
    "    'BREAD', 'MEAT', 'FISH', 'MILK', 'OIL', \n",
    "    'FRUIT', 'VEG', 'SUGAR', 'FOOD_NEC', 'FRUIT_VEG', \n",
    "    'COFFEE', 'TEA', 'COCOA', 'WATER', 'SOFTDRINKS', \n",
    "    'OTHER_NON_ALCOHOL', 'ALCOHOL', 'TOBACCO', 'OTHER_VEG', \n",
    "    'SERVICES_PRIMARY_GOODS', 'ALCOHOL_PROCDUCTION_SERVICES', \n",
    "    'FOOD_HOME', 'FOOD_OUTSIDE'\n",
    "], inplace=True)"
   ]
  },
  {
   "cell_type": "code",
   "execution_count": null,
   "metadata": {},
   "outputs": [],
   "source": [
    "# Drop Non-Food Component Columns\n",
    "# The column NFOOD, which is the total of these components will be used instead\n",
    "cleaned_fies.drop(columns=[\n",
    "    'CLOTH', 'HOUSING_WATER', 'FURNISHING', 'HEALTH', \n",
    "    'TRANSPORT', 'COMMUNICATION', 'RECREATION', 'EDUCATION', \n",
    "    'INSURANCE', 'MISCELLANEOUS', 'DURABLE', 'OCCASION', \n",
    "    'OTHER_EXPENDITURE'\n",
    "], inplace=True)"
   ]
  },
  {
   "cell_type": "code",
   "execution_count": null,
   "metadata": {},
   "outputs": [],
   "source": [
    "# Drop Other Unnecessary Columns\n",
    "cleaned_fies.drop(columns=[\n",
    "    'RPROV','WAGES','LOSSES', 'ACTRENT', 'IMPUTED_RENT', 'BIMPUTED_RENT',\n",
    "    'FOOD_ACCOM_SRVC', 'RPSU', 'RFACT', 'MEM_RFACT', 'NPCINC', \n",
    "    'RPCINC', 'PRPCINC', 'PPCINC', 'RPCINC_NIR', \n",
    "    'W_REGN_NIR'\n",
    "], inplace=True)\n"
   ]
  },
  {
   "cell_type": "code",
   "execution_count": null,
   "metadata": {},
   "outputs": [],
   "source": [
    "cleaned_fies.columns"
   ]
  },
  {
   "cell_type": "code",
   "execution_count": null,
   "metadata": {},
   "outputs": [],
   "source": [
    "# Standardize Column Names\n",
    "cleaned_fies.rename(\n",
    "    columns={\n",
    "        \"W_REGN\": \"REGION\",\n",
    "        \"W_PROV\": \"PROVINCE\",\n",
    "        \"SEQ_NO\": \"FAMILY_ID\",\n",
    "        \"FSIZE\": \"FAMILY_SIZE\",\n",
    "        \"NETSHARE\": \"NET_SHARE\",\n",
    "        \"OTHER_SOURCE\": \"OTHER_INCOME_SOURCE\",\n",
    "        \"REGFT\": \"GIFT_RECEIPTS\",\n",
    "        \"EAINC\": \"ENTREP_INCOME\",\n",
    "        \"FOOD\": \"FOOD_EXPENSES\",\n",
    "        \"NFOOD\": \"NON_FOOD_EXPENSES\",\n",
    "        \"TOINC\": \"TOTAL_INCOME\",\n",
    "        \"TOTEX\": \"TOTAL_EXPENSES\",\n",
    "        \"TOTDIS\": \"TOTAL_DISBURSEMENTS\",\n",
    "        \"OTHREC\": \"OTHER_RECEIPTS\",\n",
    "        \"TOREC\": \"TOTAL_RECEIPTS\",\n",
    "        \"URB\": \"AREA_CLASS\",\n",
    "        \"PERCAPITA\": \"PCAPITA_INCOME\",\n",
    "    },\n",
    "    inplace=True,\n",
    ")"
   ]
  },
  {
   "cell_type": "code",
   "execution_count": null,
   "metadata": {},
   "outputs": [],
   "source": [
    "cleaned_fies.columns"
   ]
  },
  {
   "cell_type": "code",
   "execution_count": null,
   "metadata": {},
   "outputs": [],
   "source": [
    "cleaned_fies.shape"
   ]
  },
  {
   "cell_type": "code",
   "execution_count": null,
   "metadata": {},
   "outputs": [],
   "source": [
    "cleaned_fies.info()"
   ]
  },
  {
   "cell_type": "markdown",
   "metadata": {},
   "source": [
    "### Data Engineering"
   ]
  },
  {
   "cell_type": "markdown",
   "metadata": {},
   "source": [
    "Classifying incomes into different social classes based on the defined thresholds\n",
    "\n",
    "*References*\n",
    "- https://www.moneymax.ph/personal-finance/articles/social-class-philippines\n",
    "- https://psa.gov.ph/statistics/poverty"
   ]
  },
  {
   "cell_type": "code",
   "execution_count": null,
   "metadata": {},
   "outputs": [],
   "source": [
    "poverty_threshold = 13873 * 12  # Official poverty threshold (Annual)\n",
    "\n",
    "def classify_income(row):\n",
    "    total_income = row['TOTAL_INCOME']\n",
    "    if total_income < poverty_threshold:\n",
    "        return 'Poor'\n",
    "    elif total_income < 2 * poverty_threshold:\n",
    "        return 'Low income'\n",
    "    elif total_income < 4 * poverty_threshold:\n",
    "        return 'Lower-middle income'\n",
    "    elif total_income < 7 * poverty_threshold:\n",
    "        return 'Middle income'\n",
    "    elif total_income < 12 * poverty_threshold:\n",
    "        return 'Upper-middle income'\n",
    "    elif total_income < 20 * poverty_threshold:\n",
    "        return 'Upper income'\n",
    "    else:\n",
    "        return 'Rich'\n",
    "\n",
    "cleaned_fies['SOCIAL_CLASS'] = cleaned_fies.apply(classify_income, axis=1)\n",
    "print(cleaned_fies[['TOTAL_INCOME', 'SOCIAL_CLASS']].head())\n"
   ]
  },
  {
   "cell_type": "markdown",
   "metadata": {},
   "source": [
    "Calculates the net savings for each individual by subtracting their total expenses (`TOTAL_EXPENSES`) from their total income (`TOTAL_INCOME`) and stores the result in a new column called `NET_SAVINGS` in the `cleaned_fies` DataFrame."
   ]
  },
  {
   "cell_type": "code",
   "execution_count": null,
   "metadata": {},
   "outputs": [],
   "source": [
    "cleaned_fies['NET_SAVINGS'] = cleaned_fies['TOTAL_INCOME'] - cleaned_fies['TOTAL_EXPENSES']"
   ]
  },
  {
   "cell_type": "code",
   "execution_count": null,
   "metadata": {},
   "outputs": [],
   "source": [
    "cleaned_fies.columns"
   ]
  },
  {
   "cell_type": "code",
   "execution_count": null,
   "metadata": {},
   "outputs": [],
   "source": [
    "cleaned_fies.describe()"
   ]
  },
  {
   "cell_type": "markdown",
   "metadata": {},
   "source": [
    "## Exploratory Data Analysis"
   ]
  },
  {
   "cell_type": "code",
   "execution_count": null,
   "metadata": {},
   "outputs": [],
   "source": [
    "# Create the separate DataFrame for income analysis\n",
    "income_columns = [\n",
    "    'REG_SAL', 'SEASON_SAL', 'NET_SHARE', 'CASH_ABROAD', 'CASH_DOMESTIC', \n",
    "    'RENTALS_REC', 'INTEREST', 'PENSION', 'DIVIDENDS', \n",
    "    'OTHER_INCOME_SOURCE', 'NET_RECEIPT', 'GIFT_RECEIPTS', \n",
    "    'ENTREP_INCOME', 'RENTVAL', 'TOTAL_INCOME'\n",
    "]\n",
    "\n",
    "# Create income_df with only the income-related columns\n",
    "income_df = cleaned_fies[income_columns]"
   ]
  },
  {
   "cell_type": "code",
   "execution_count": null,
   "metadata": {},
   "outputs": [],
   "source": [
    "income_df.columns"
   ]
  },
  {
   "cell_type": "code",
   "execution_count": null,
   "metadata": {},
   "outputs": [],
   "source": [
    "income_df.shape"
   ]
  },
  {
   "cell_type": "code",
   "execution_count": null,
   "metadata": {},
   "outputs": [],
   "source": [
    "# Correlation heatmap \n",
    "plt.figure(figsize=(14, 10)) \n",
    "sns.heatmap(\n",
    "    income_df.corr(),\n",
    "    annot=True,      \n",
    "    cmap='coolwarm',  \n",
    "    linewidths=1,     \n",
    "    linecolor='white', \n",
    "    cbar_kws={'shrink': 0.8}, \n",
    "    square=True,    \n",
    "    fmt='.2f',     \n",
    "    annot_kws={'size': 10}  \n",
    ")\n",
    "\n",
    "plt.title('Correlation Heatmap for Income Components', fontsize=18, pad=20)\n",
    "\n",
    "plt.xticks(rotation=45, ha='right', fontsize=12)\n",
    "plt.yticks(rotation=0, fontsize=12)\n",
    "\n",
    "# Display the heatmap\n",
    "plt.tight_layout()  \n",
    "plt.show()"
   ]
  },
  {
   "cell_type": "markdown",
   "metadata": {},
   "source": [
    ">**Analysis**:\n",
    "Entrepreneurial income and regular salary show the strongest correlations with total income (0.66 and 0.60 respectively), highlighting their significance in overall household finances.\n",
    "Rental value moderately correlates with total income and regular salary, suggesting a link between housing value and income levels.\n",
    "Most other income components show weak correlations, indicating diverse and independent income sources across the population."
   ]
  },
  {
   "cell_type": "code",
   "execution_count": null,
   "metadata": {},
   "outputs": [],
   "source": [
    "# List of columns to drop (income components, except for TOTAL_INCOME)\n",
    "columns_to_drop = [\n",
    "    'REG_SAL', 'SEASON_SAL', 'NET_SHARE', 'CASH_ABROAD', 'CASH_DOMESTIC',\n",
    "    'RENTALS_REC', 'INTEREST', 'PENSION', 'DIVIDENDS',\n",
    "    'OTHER_INCOME_SOURCE', 'NET_RECEIPT', 'GIFT_RECEIPTS', \n",
    "    'ENTREP_INCOME', 'RENTVAL'\n",
    "]\n",
    "\n",
    "# Drop the component columns from cleaned_fies, keeping TOTAL_INCOME\n",
    "cleaned_fies = cleaned_fies.drop(columns=columns_to_drop)"
   ]
  },
  {
   "cell_type": "code",
   "execution_count": null,
   "metadata": {},
   "outputs": [],
   "source": [
    "cleaned_fies.columns"
   ]
  },
  {
   "cell_type": "code",
   "execution_count": null,
   "metadata": {},
   "outputs": [],
   "source": [
    "# Correlation heatmap\n",
    "plt.figure(figsize=(14, 10)) \n",
    "\n",
    "# Convert 'SOCIAL_CLASS' into numerical values\n",
    "social_class_mapping = {\n",
    "    'Poor': 1,\n",
    "    'Low income': 2,\n",
    "    'Lower-middle income': 3,\n",
    "    'Middle income': 4,\n",
    "    'Upper-middle income': 5,\n",
    "    'Upper income': 6,\n",
    "    'Rich': 7\n",
    "}\n",
    "\n",
    "corr_fies = cleaned_fies.copy()\n",
    "\n",
    "corr_fies['SOCIAL_CLASS'] = corr_fies['SOCIAL_CLASS'].replace(social_class_mapping)\n",
    "\n",
    "sns.heatmap(\n",
    "    corr_fies.corr(), \n",
    "    annot=False,        \n",
    "    cmap='coolwarm',\n",
    "    linewidths=0,    \n",
    "    square=True,      \n",
    "    cbar_kws={'shrink': 0.8} \n",
    ")\n",
    "\n",
    "plt.title('Correlation Heatmap for FIES', fontsize=18, pad=20)\n",
    "\n",
    "plt.xticks(rotation=45, ha='right', fontsize=12)\n",
    "plt.yticks(rotation=0, fontsize=12)\n",
    "\n",
    "# Display the heatmap\n",
    "plt.tight_layout()  \n",
    "plt.show()"
   ]
  },
  {
   "cell_type": "markdown",
   "metadata": {},
   "source": [
    ">**Analysis**:\n",
    "Total income, expenses, and disbursements are highly correlated, as expected in household finances.\n",
    "Family size positively correlates with food expenses and other disbursements, indicating higher expenses for larger families.\n",
    "Geographic factors (region and province) show little correlation with financial metrics, suggesting economic status isn't strongly tied to specific areas.\n",
    "Area classification shows some correlation with financial metrics, hinting at economic differences between urban and rural areas.\n",
    "Net savings correlate positively with total income and negatively with expenses, but not extremely strongly, suggesting varied saving behaviors across income levels."
   ]
  },
  {
   "cell_type": "code",
   "execution_count": null,
   "metadata": {},
   "outputs": [],
   "source": [
    "# Boxplot to identify outliers in the dataset\n",
    "\n",
    "plt.figure(figsize=(15, 5))\n",
    "\n",
    "plt.subplot(1, 3, 1)\n",
    "sns.boxplot(data=cleaned_fies['TOTAL_INCOME'], color='skyblue')\n",
    "plt.title('Total Income Boxplot')\n",
    "plt.xlabel('Total Income')\n",
    "\n",
    "plt.subplot(1, 3, 2)\n",
    "sns.boxplot(data=cleaned_fies['TOTAL_EXPENSES'], color='lightgreen')\n",
    "plt.title('Total Expenses Boxplot')\n",
    "plt.xlabel('TotalExpenses')\n",
    "\n",
    "plt.subplot(1, 3, 3)\n",
    "sns.boxplot(data=cleaned_fies['PCAPITA_INCOME'], color='salmon')\n",
    "plt.title('Per Capita Income Boxplot')\n",
    "plt.xlabel('Per Capita income')\n",
    "\n",
    "plt.tight_layout()\n",
    "plt.show()"
   ]
  },
  {
   "cell_type": "code",
   "execution_count": null,
   "metadata": {},
   "outputs": [],
   "source": [
    "# Set display options\n",
    "pd.set_option('display.float_format', '{:.2f}'.format)\n",
    "\n",
    "# Getting descriptive statistics for the NET_SAVINGS column\n",
    "cleaned_fies['NET_SAVINGS'].describe()"
   ]
  },
  {
   "cell_type": "markdown",
   "metadata": {},
   "source": [
    "`NET_SAVINGS` has a minimum value of -5174102.00 and a maximum value of 77005008.00"
   ]
  },
  {
   "cell_type": "code",
   "execution_count": null,
   "metadata": {},
   "outputs": [],
   "source": [
    "# Assuming cleaned_fies is your DataFrame\n",
    "# Sort the DataFrame by NET_SAVINGS in descending order\n",
    "sorted_fies = cleaned_fies.sort_values(by='NET_SAVINGS', ascending=False)\n",
    "\n",
    "# Display the top 10 rows of the sorted DataFrame\n",
    "sorted_fies.head(10)\n"
   ]
  },
  {
   "cell_type": "markdown",
   "metadata": {},
   "source": [
    "## Data Visualization"
   ]
  },
  {
   "cell_type": "code",
   "execution_count": null,
   "metadata": {},
   "outputs": [],
   "source": [
    "social_class_order = [\n",
    "    \"Poor\",\n",
    "    \"Low income\",\n",
    "    \"Lower-middle income\",\n",
    "    \"Middle income\",\n",
    "    \"Upper-middle income\",\n",
    "    \"Upper income\",\n",
    "    \"Rich\",\n",
    "]"
   ]
  },
  {
   "cell_type": "code",
   "execution_count": null,
   "metadata": {},
   "outputs": [],
   "source": [
    "plt.figure(figsize=(10, 6))\n",
    "sns.countplot(\n",
    "    y=\"SOCIAL_CLASS\",\n",
    "    data=cleaned_fies,\n",
    "    palette=\"viridis\",\n",
    "    order=social_class_order,\n",
    ")\n",
    "plt.title('Distribution of Social Classes')\n",
    "plt.xlabel('Frequency')\n",
    "plt.ylabel('Social Class')\n",
    "plt.show()"
   ]
  },
  {
   "cell_type": "markdown",
   "metadata": {},
   "source": [
    ">**Analysis**:\n",
    "Majority of the households in PH are part of the low income and poor classes, indicating prevalence of poverty and other issues such as income inequality"
   ]
  },
  {
   "cell_type": "code",
   "execution_count": null,
   "metadata": {},
   "outputs": [],
   "source": [
    "# Distribution of Social Classes grouped by Region\n",
    "plt.figure(figsize=(10, 6))\n",
    "sns.countplot(\n",
    "    y=\"REGION\",\n",
    "    data=cleaned_fies,\n",
    "    hue=\"SOCIAL_CLASS\",\n",
    "    palette=\"viridis\",\n",
    "    hue_order=social_class_order,\n",
    "    order=sorted(cleaned_fies[\"REGION\"].unique()),\n",
    "    dodge=False\n",
    ")\n",
    "plt.title(\"Distribution of Social Classes by Region\")\n",
    "plt.xlabel(\"Frequency\")\n",
    "plt.show()"
   ]
  },
  {
   "cell_type": "markdown",
   "metadata": {},
   "source": [
    ">**Analysis**:\n",
    "The chart illustrates substantial regional variations in social class distribution, with some areas showing a more diverse mix of income groups while others are dominated by specific social classes."
   ]
  },
  {
   "cell_type": "code",
   "execution_count": null,
   "metadata": {},
   "outputs": [],
   "source": [
    "# Distribution of Social Classes grouped by Region\n",
    "plt.figure(figsize=(10, 10))\n",
    "sns.countplot(y=\"AREA_CLASS\", data=cleaned_fies, hue=\"SOCIAL_CLASS\", hue_order=social_class_order, palette=\"viridis\")\n",
    "plt.title(\"Distribution of Social Classes by Region\")\n",
    "plt.xlabel(\"Frequency\")\n",
    "plt.show()"
   ]
  },
  {
   "cell_type": "markdown",
   "metadata": {},
   "source": [
    ">**Analysis**:\n",
    "Differences in social class distribution between urban (`AREA_CLASS = 1`) and rural areas (`AREA_CLASS = 2`), with rural regions showing higher proportions of poor and low-income groups, while urban areas demonstrate a more balanced distribution across various income levels."
   ]
  },
  {
   "cell_type": "code",
   "execution_count": null,
   "metadata": {},
   "outputs": [],
   "source": [
    "# Graph for Total Income by Social Class\n",
    "plt.figure(figsize=(12, 8))\n",
    "sns.boxplot(\n",
    "    x=\"SOCIAL_CLASS\",\n",
    "    y=\"TOTAL_INCOME\",\n",
    "    data=cleaned_fies,\n",
    "    palette=\"viridis\",\n",
    "    order=social_class_order,\n",
    ")\n",
    "plt.title('Total Income by Social Class')\n",
    "plt.xlabel('Social Class')\n",
    "plt.ylabel('Total Income')\n",
    "plt.show()"
   ]
  },
  {
   "cell_type": "markdown",
   "metadata": {},
   "source": [
    ">**Analysis**:\n",
    "Income inequality across social classes, with the \"Rich\" category showing significantly higher and more varied incomes. There's a clear upward trend in income levels from \"Poor\" to \"Rich\", with the gap between classes widening as we move up the social ladder. The lower income classes show very compressed distributions, while upper classes, especially the \"Rich\", display wide ranges and numerous high-income outliers."
   ]
  },
  {
   "cell_type": "code",
   "execution_count": null,
   "metadata": {},
   "outputs": [],
   "source": [
    "# Graph for Total Expenses by Social Class\n",
    "plt.figure(figsize=(12, 8))\n",
    "sns.boxplot(\n",
    "    x=\"SOCIAL_CLASS\",\n",
    "    y=\"TOTAL_EXPENSES\",\n",
    "    data=cleaned_fies,\n",
    "    palette=\"viridis\",\n",
    "    order=social_class_order,\n",
    ")\n",
    "plt.title(\"Total Expenses by Social Class\")\n",
    "plt.xlabel(\"Social Class\")\n",
    "plt.ylabel(\"Total Expenses\")\n",
    "plt.show()"
   ]
  },
  {
   "cell_type": "markdown",
   "metadata": {},
   "source": [
    ">**Analysis**:\n",
    "The expense plot, while following a similar trend, shows less dramatic differences between classes, suggesting that while income varies greatly, expenses don't increase as sharply across social classes."
   ]
  },
  {
   "cell_type": "code",
   "execution_count": null,
   "metadata": {},
   "outputs": [],
   "source": [
    "# Graph for Net Savings by Social Class\n",
    "plt.figure(figsize=(12, 8))\n",
    "sns.boxplot(\n",
    "    x=\"SOCIAL_CLASS\",\n",
    "    y=\"NET_SAVINGS\",\n",
    "    data=cleaned_fies,\n",
    "    palette=\"viridis\",\n",
    "    order=social_class_order,\n",
    ")\n",
    "plt.title(\"Net Savings by Social Class\")\n",
    "plt.xlabel(\"Social Class\")\n",
    "plt.ylabel(\"Net Savings\")\n",
    "plt.show()"
   ]
  },
  {
   "cell_type": "markdown",
   "metadata": {},
   "source": [
    ">**Analysis**:\n",
    "Lower income groups show minimal savings capacity with compressed distributions near zero. As we move up the social ladder, there's a clear upward trend in net savings, with the \"Rich\" category displaying significantly higher median savings and a much wider distribution. Upper income classes, especially the \"Rich\", exhibit numerous high-value outliers, indicating substantial savings potential. However, the presence of negative outliers across most classes suggests that instances of debt or negative savings occur at all social levels, though more pronounced in lower income groups."
   ]
  },
  {
   "cell_type": "code",
   "execution_count": null,
   "metadata": {},
   "outputs": [],
   "source": [
    "# Graph for Family Size by Social Class\n",
    "plt.figure(figsize=(15, 6))\n",
    "sns.boxplot(\n",
    "    y=\"FAMILY_SIZE\", x=\"SOCIAL_CLASS\", data=cleaned_fies, hue=\"SOCIAL_CLASS\", palette=\"viridis\", legend=False, hue_order=social_class_order\n",
    ")\n",
    "\n",
    "plt.title('Family Size by Social Class')\n",
    "plt.xlabel('Social Class')\n",
    "plt.ylabel('Family Size')\n",
    "plt.show()\n"
   ]
  },
  {
   "cell_type": "markdown",
   "metadata": {},
   "source": [
    ">**Insights**:\n",
    "`FAMILY_SIZE` does not change significantly throughout all `SOCIAL_CLASS` except for `POOR` "
   ]
  },
  {
   "cell_type": "markdown",
   "metadata": {},
   "source": [
    "### Demographic Visualization"
   ]
  },
  {
   "cell_type": "code",
   "execution_count": null,
   "metadata": {},
   "outputs": [],
   "source": [
    "# Distribution of Regions\n",
    "plt.figure(figsize=(10, 6))\n",
    "sns.countplot(y=\"REGION\", data=cleaned_fies, palette=\"viridis\")\n",
    "plt.title(\"Distribution of Regions\")\n",
    "plt.xlabel(\"Frequency\")\n",
    "plt.show()"
   ]
  },
  {
   "cell_type": "markdown",
   "metadata": {},
   "source": [
    ">**Insights**:\n",
    "NCR has the most number of families, followed by REGION 3, REGION 6, REGION 15, REGION 8, and REGION 1 has the least"
   ]
  },
  {
   "cell_type": "code",
   "execution_count": null,
   "metadata": {},
   "outputs": [],
   "source": [
    "# Savings by Region\n",
    "plt.figure(figsize=(10, 6))\n",
    "sns.boxplot(x=\"REGION\", y=\"NET_SAVINGS\", data=cleaned_fies, palette=\"viridis\")\n",
    "plt.title(\"Net Savings by Region\")\n",
    "plt.xlabel(\"Region\")\n",
    "plt.ylabel(\"Net Savings\")\n",
    "plt.show()\n"
   ]
  },
  {
   "cell_type": "markdown",
   "metadata": {},
   "source": [
    ">**Analysis**: The box plot reveals significant disparities in net savings across different regions. While most regions show median net savings close to zero, there's considerable variation in the spread and outliers. Some regions display higher positive outliers, indicating individuals with substantially higher savings. However, the generally small interquartile ranges suggest that the majority of people in each region have similar, relatively low levels of net savings. The presence of both positive and negative outliers in most regions highlights the economic diversity within each area, with some individuals having high savings and others facing debt."
   ]
  },
  {
   "cell_type": "markdown",
   "metadata": {},
   "source": [
    "---"
   ]
  },
  {
   "cell_type": "markdown",
   "metadata": {},
   "source": [
    "# Overall Insights"
   ]
  },
  {
   "cell_type": "markdown",
   "metadata": {},
   "source": [
    "## Key Findings"
   ]
  },
  {
   "cell_type": "markdown",
   "metadata": {},
   "source": [
    "1. **Income Inequality**: The analysis reveals significant income disparities across different social classes in the Philippines. The \"Rich\" category shows substantially higher and more varied incomes compared to other classes.\n",
    "\n",
    "2. **Social Class Distribution**: The majority of households in the Philippines fall into the low income and poor classes, indicating prevalent poverty and income inequality issues.\n",
    "\n",
    "3. **Regional Variations**: There are substantial regional differences in social class distribution. Some areas show a more diverse mix of income groups, while others are dominated by specific social classes.\n",
    "\n",
    "4. **Urban vs. Rural Divide**: Rural areas tend to have higher proportions of poor and low-income groups, while urban areas demonstrate a more balanced distribution across various income levels.\n",
    "\n",
    "5. **Expenses and Savings**: While income varies greatly across social classes, expenses don't increase as sharply. This leads to significant differences in net savings capacity, with lower income groups showing minimal savings potential and upper classes, especially the \"Rich\", displaying much higher median savings.\n",
    "\n",
    "6. **Family Size**: Family size does not change significantly across social classes, except for the \"Poor\" category which shows some variation.\n",
    "\n",
    "7. **Regional Demographics**: The National Capital Region (NCR) has the highest number of families, followed by Regions 3, 6, 15, and 8. Region 1 has the least number of families.\n",
    "\n",
    "8. **Net Savings by Region**: There are significant disparities in net savings across different regions, with most regions showing median net savings close to zero but considerable variation in outliers."
   ]
  },
  {
   "cell_type": "markdown",
   "metadata": {},
   "source": [
    "## Implications"
   ]
  },
  {
   "cell_type": "markdown",
   "metadata": {},
   "source": [
    "These findings highlight the complex socio-economic landscape of the Philippines, characterized by significant income inequality, regional disparities, and varying capacities for savings across different social classes. The data suggests a need for targeted economic policies and interventions to address poverty, promote more equitable income distribution, and enhance savings capacity, particularly in rural areas and among lower income groups."
   ]
  },
  {
   "cell_type": "markdown",
   "metadata": {},
   "source": [
    "## Future Directions"
   ]
  },
  {
   "cell_type": "markdown",
   "metadata": {},
   "source": [
    "As noted in the project description, future stages of this analysis will include:\n",
    "\n",
    "- Machine learning model implementation\n",
    "- More comprehensive data analysis\n",
    "- Advanced data visualization techniques\n",
    "- Formulation of conclusions and recommendations based on the extended analysis\n",
    "\n",
    "These additional steps will likely provide deeper insights into the factors influencing income distribution, savings behavior, and overall economic well-being across different segments of the Philippine population."
   ]
  },
  {
   "cell_type": "code",
   "execution_count": null,
   "metadata": {},
   "outputs": [],
   "source": [
    "cleaned_fies.columns"
   ]
  },
  {
   "cell_type": "code",
   "execution_count": null,
   "metadata": {},
   "outputs": [],
   "source": [
    "income_df.columns"
   ]
  },
  {
   "cell_type": "code",
   "execution_count": null,
   "metadata": {},
   "outputs": [],
   "source": [
    "%matplotlib inline\n",
    "\n",
    "cleaned_fies['TOTAL_EXPENSES_RATIO'] = cleaned_fies['TOTAL_EXPENSES'] / cleaned_fies['TOTAL_RECEIPTS']\n",
    "cleaned_fies['FOOD_EXPENSES_RATIO'] = cleaned_fies['FOOD_EXPENSES'] / cleaned_fies['TOTAL_EXPENSES']\n",
    "cleaned_fies['NON_FOOD_EXPENSES_RATIO'] = cleaned_fies['NON_FOOD_EXPENSES'] / cleaned_fies['TOTAL_EXPENSES']\n",
    "cleaned_fies['SAVINGS_RATIO'] = cleaned_fies['NET_SAVINGS'] / cleaned_fies['TOTAL_RECEIPTS']\n",
    "cleaned_fies['PCAPITA_EXPENSES'] = cleaned_fies['TOTAL_EXPENSES'] / cleaned_fies['FAMILY_SIZE']\n",
    "cleaned_fies['PCAPITA_FOOD_EXPENSES'] = cleaned_fies['FOOD_EXPENSES'] / cleaned_fies['FAMILY_SIZE']\n",
    "cleaned_fies['PCAPITA_NON_FOOD_EXPENSES'] = cleaned_fies['NON_FOOD_EXPENSES'] / cleaned_fies['FAMILY_SIZE']\n",
    "\n",
    "features = ['FAMILY_SIZE', 'FOOD_EXPENSES_RATIO', 'NON_FOOD_EXPENSES_RATIO', \n",
    "            'SAVINGS_RATIO', 'PCAPITA_EXPENSES', 'PCAPITA_FOOD_EXPENSES', \n",
    "            'PCAPITA_NON_FOOD_EXPENSES', 'AREA_CLASS', 'REGION', 'PROVINCE']"
   ]
  },
  {
   "cell_type": "code",
   "execution_count": null,
   "metadata": {},
   "outputs": [],
   "source": [
    "X = cleaned_fies[features]\n",
    "y = cleaned_fies['SOCIAL_CLASS']\n",
    "\n",
    "X_train, X_test, y_train, y_test = train_test_split(X, y, test_size=0.2, random_state=42)"
   ]
  },
  {
   "cell_type": "code",
   "execution_count": null,
   "metadata": {},
   "outputs": [],
   "source": [
    "scaler = StandardScaler()\n",
    "X_train_scaled = scaler.fit_transform(X_train)\n",
    "X_test_scaled = scaler.transform(X_test)"
   ]
  },
  {
   "cell_type": "code",
   "execution_count": null,
   "metadata": {},
   "outputs": [],
   "source": [
    "# # apply smote for handling class imbalance\n",
    "# smote = SMOTE(random_state=42)\n",
    "# X_train_balanced, y_train_balanced = smote.fit_resample(X_train_scaled, y_train)"
   ]
  },
  {
   "cell_type": "code",
   "execution_count": null,
   "metadata": {},
   "outputs": [],
   "source": [
    "y.value_counts()"
   ]
  },
  {
   "cell_type": "code",
   "execution_count": null,
   "metadata": {},
   "outputs": [],
   "source": [
    "import optuna\n",
    "from sklearn.metrics import f1_score"
   ]
  },
  {
   "cell_type": "code",
   "execution_count": null,
   "metadata": {},
   "outputs": [],
   "source": [
    "# Compute class weights\n",
    "class_weights = compute_class_weight(class_weight='balanced', \n",
    "                                   classes=np.unique(y_train), \n",
    "                                   y=y_train)\n",
    "class_weight_dict = dict(zip(np.unique(y_train), class_weights))\n",
    "\n",
    "#Train improved model with class weights\n",
    "\n",
    "def objective(trial):\n",
    "    params = {\n",
    "        'n_estimators': trial.suggest_int('n_estimators', 100, 500),\n",
    "        'max_depth': trial.suggest_int('max_depth', 10, 30),\n",
    "        'min_samples_split': trial.suggest_int('min_samples_split', 2, 10),\n",
    "        'min_samples_leaf': trial.suggest_int('min_samples_leaf', 1, 5),\n",
    "        'class_weight': class_weight_dict,\n",
    "        'random_state': 42\n",
    "    }\n",
    "\n",
    "    rf_model = RandomForestClassifier(**params)\n",
    "\n",
    "    rf_model.fit(X_train_scaled, y_train)\n",
    "\n",
    "    y_pred = rf_model.predict(X_test_scaled)\n",
    "\n",
    "    return f1_score(y_test, y_pred, average='weighted')\n",
    "\n",
    "\n",
    "study = optuna.create_study(direction='maximize', study_name='Random Forest Optimization', storage='sqlite:///rf_study.db', load_if_exists=True)\n",
    "study.optimize(objective, n_trials=100)\n",
    "\n",
    "trial = study.best_trial\n",
    "print('F1 Score: {}'.format(trial.value))\n",
    "\n",
    "\n"
   ]
  },
  {
   "cell_type": "code",
   "execution_count": null,
   "metadata": {},
   "outputs": [],
   "source": [
    "trial = study.best_trial\n",
    "\n",
    "rf_model = RandomForestClassifier(**trial.params)\n",
    "\n",
    "\n",
    "# rf_model = RandomForestClassifier(\n",
    "#     n_estimators=200,\n",
    "#     max_depth=15,\n",
    "#     min_samples_split=5,\n",
    "#     min_samples_leaf=2,\n",
    "#     class_weight= class_weight_dict,\n",
    "#     random_state=42\n",
    "# )\n",
    "\n",
    "rf_model.fit(X_train_scaled, y_train)\n",
    "\n",
    "# Make predictions\n",
    "y_pred = rf_model.predict(X_test_scaled)\n",
    "\n",
    "# Print classification report\n",
    "print(\"Classification Report:\")\n",
    "print(classification_report(y_test, y_pred))\n",
    "\n",
    "# Print Accuracy"
   ]
  },
  {
   "cell_type": "code",
   "execution_count": null,
   "metadata": {},
   "outputs": [],
   "source": [
    "# 1. Confusion Matrix\n",
    "plt.figure(figsize=(12, 10))\n",
    "cm = confusion_matrix(y_test, y_pred)\n",
    "sns.heatmap(cm, annot=True, fmt=\"d\", cmap=\"Blues\")\n",
    "plt.title(\"Improved Model Confusion Matrix\")\n",
    "plt.xlabel(\"Predicted\")\n",
    "plt.ylabel(\"Actual\")\n",
    "plt.show()\n",
    "\n",
    "# 2. Feature Importance\n",
    "feature_importance = pd.DataFrame(\n",
    "    {\"feature\": features, \"importance\": rf_model.feature_importances_}\n",
    ").sort_values(\"importance\", ascending=False)\n",
    "\n",
    "plt.figure(figsize=(12, 8))\n",
    "sns.barplot(x=\"importance\", y=\"feature\", data=feature_importance)\n",
    "plt.title(\"Feature Importance (Improved Model)\")\n",
    "plt.xlabel(\"Importance\")\n",
    "plt.ylabel(\"Feature\")\n",
    "plt.tight_layout()\n",
    "plt.show()\n",
    "\n",
    "\n"
   ]
  },
  {
   "cell_type": "code",
   "execution_count": null,
   "metadata": {},
   "outputs": [],
   "source": [
    "# 3. Distribution of Social Classes\n",
    "plt.figure(figsize=(12, 6))\n",
    "sns.countplot(\n",
    "    y=\"SOCIAL_CLASS\",\n",
    "    data=cleaned_fies,\n",
    "    order=cleaned_fies[\"SOCIAL_CLASS\"].value_counts().index,\n",
    ")\n",
    "plt.title(\"Distribution of Social Classes\")\n",
    "plt.xlabel(\"Count\")\n",
    "plt.ylabel(\"Social Class\")\n",
    "plt.show()\n",
    "\n",
    "\n",
    "# 4. Savings Ratio by Social Class\n",
    "plt.figure(figsize=(12, 6))\n",
    "sns.boxplot(\n",
    "    x=\"SOCIAL_CLASS\",\n",
    "    y=\"SAVINGS_RATIO\",\n",
    "    data=cleaned_fies,\n",
    "    order=cleaned_fies[\"SOCIAL_CLASS\"].value_counts().index,\n",
    ")\n",
    "plt.title(\"Savings Ratio by Social Class\")\n",
    "plt.xlabel(\"Social Class\")\n",
    "plt.ylabel(\"Savings Ratio\")\n",
    "plt.xticks(rotation=45)\n",
    "plt.show()\n",
    "\n",
    "\n",
    "# 5. Food Expenses Ratio by Social Class\n",
    "plt.figure(figsize=(12, 6))\n",
    "sns.boxplot(\n",
    "    x=\"SOCIAL_CLASS\",\n",
    "    y=\"FOOD_EXPENSES_RATIO\",\n",
    "    data=cleaned_fies,\n",
    "    order=cleaned_fies[\"SOCIAL_CLASS\"].value_counts().index,\n",
    ")\n",
    "plt.title(\"Food Expenses Ratio by Social Class\")\n",
    "plt.xlabel(\"Social Class\")\n",
    "plt.ylabel(\"Food Expenses Ratio\")\n",
    "plt.xticks(rotation=45)\n",
    "plt.show()\n",
    "\n",
    "\n",
    "# 5.5 Non-food Expenses Ratio by Social Class\n",
    "plt.figure(figsize=(12, 6))\n",
    "sns.boxplot(\n",
    "    x=\"SOCIAL_CLASS\",\n",
    "    y=\"NON_FOOD_EXPENSES_RATIO\",\n",
    "    data=cleaned_fies,\n",
    "    order=cleaned_fies[\"SOCIAL_CLASS\"].value_counts().index,\n",
    ")\n",
    "plt.title(\"Non-Food Expenses Ratio by Social Class\")\n",
    "plt.xlabel(\"Social Class\")\n",
    "plt.ylabel(\"Non-Food Expenses Ratio\")\n",
    "plt.xticks(rotation=45)\n",
    "plt.show()\n",
    "\n",
    "\n",
    "# 6. Per Capita Expenses by Region\n",
    "plt.figure(figsize=(14, 8))\n",
    "sns.boxplot(x=\"REGION\", y=\"PCAPITA_EXPENSES\", data=cleaned_fies)\n",
    "plt.title(\"Per Capita Expenses by Region\")\n",
    "plt.xlabel(\"Region\")\n",
    "plt.ylabel(\"Per Capita Expenses\")\n",
    "plt.xticks(rotation=45)\n",
    "plt.show()\n",
    "\n",
    "\n",
    "# 7. Correlation Heatmap\n",
    "correlation_features = [\n",
    "    \"FAMILY_SIZE\",\n",
    "    \"FOOD_EXPENSES_RATIO\",\n",
    "    \"NON_FOOD_EXPENSES_RATIO\",\n",
    "    \"SAVINGS_RATIO\",\n",
    "    \"PCAPITA_EXPENSES\",\n",
    "    \"PCAPITA_FOOD_EXPENSES\",\n",
    "    \"PCAPITA_NON_FOOD_EXPENSES\",\n",
    "]\n",
    "correlation_matrix = cleaned_fies[correlation_features].corr()\n",
    "\n",
    "plt.figure(figsize=(12, 10))\n",
    "sns.heatmap(correlation_matrix, annot=True, cmap=\"coolwarm\", vmin=-1, vmax=1, center=0)\n",
    "plt.title(\"Correlation Heatmap of Key Features\")\n",
    "plt.tight_layout()\n",
    "plt.show()\n",
    "\n",
    "\n",
    "\n",
    "# 8. Family Size Distribution by Social Class\n",
    "plt.figure(figsize=(12, 6))\n",
    "sns.boxplot(\n",
    "    x=\"SOCIAL_CLASS\",\n",
    "    y=\"FAMILY_SIZE\",\n",
    "    data=cleaned_fies,\n",
    "    order=cleaned_fies[\"SOCIAL_CLASS\"].value_counts().index,\n",
    ")\n",
    "plt.title(\"Family Size Distribution by Social Class\")\n",
    "plt.xlabel(\"Social Class\")\n",
    "plt.ylabel(\"Family Size\")\n",
    "plt.xticks(rotation=45)\n",
    "plt.show()\n",
    "\n",
    "\n",
    "# 9. Area Class Distribution by Social Class\n",
    "area_class_dist = cleaned_fies.groupby('SOCIAL_CLASS')['AREA_CLASS'].value_counts(normalize=True).unstack()\n",
    "area_class_dist.plot(kind='bar', stacked=True, figsize=(12, 6))\n",
    "plt.title('Area Class Distribution by Social Class')\n",
    "plt.xlabel('Social Class')\n",
    "plt.ylabel('Proportion')\n",
    "plt.legend(title='Area Class', labels=['Urban', 'Rural'])\n",
    "plt.xticks(rotation=45)\n",
    "plt.tight_layout()\n",
    "plt.show()\n",
    "\n",
    "# 10. Per Capita Food Expenses by Social Class\n",
    "plt.figure(figsize=(12, 6))\n",
    "sns.boxplot(x='SOCIAL_CLASS', y='PCAPITA_FOOD_EXPENSES', data=cleaned_fies, order=cleaned_fies['SOCIAL_CLASS'].value_counts().index)\n",
    "plt.title('Per Capita Food Expenses by Social Class')\n",
    "plt.xlabel('Social Class')\n",
    "plt.ylabel('Per Capita Food Expenses')\n",
    "plt.xticks(rotation=45)\n",
    "plt.show()\n",
    "\n",
    "# 11. Savings Ratio Distribution\n",
    "plt.figure(figsize=(12, 6))\n",
    "sns.histplot(data=cleaned_fies, x='SAVINGS_RATIO', kde=True)\n",
    "plt.title('Distribution of Savings Ratio')\n",
    "plt.xlabel('Savings Ratio')\n",
    "plt.ylabel('Count')\n",
    "plt.show()"
   ]
  }
 ],
 "metadata": {
  "kernelspec": {
   "display_name": "Python 3",
   "language": "python",
   "name": "python3"
  },
  "language_info": {
   "codemirror_mode": {
    "name": "ipython",
    "version": 3
   },
   "file_extension": ".py",
   "mimetype": "text/x-python",
   "name": "python",
   "nbconvert_exporter": "python",
   "pygments_lexer": "ipython3",
   "version": "3.12.3"
  }
 },
 "nbformat": 4,
 "nbformat_minor": 2
}
